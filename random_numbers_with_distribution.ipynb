{
 "cells": [
  {
   "cell_type": "markdown",
   "metadata": {},
   "source": [
    "### Generating random numbers with a distribution\n",
    "\n",
    "This notebook gives an example of how to generate a set of random numbers that respect an arbitrary probability distribution that you specify.  For standard distributions, there are often slicker ways, but this way is quite general."
   ]
  },
  {
   "cell_type": "markdown",
   "metadata": {},
   "source": [
    "Let's say that you want to generate random numbers between 0 and 10 and you want the probability of picking a number $x$ to be proportional to $x^2$."
   ]
  },
  {
   "cell_type": "code",
   "execution_count": 3,
   "metadata": {},
   "outputs": [],
   "source": [
    "# import standard packages\n",
    "import numpy as np\n",
    "import matplotlib.pyplot as plt"
   ]
  },
  {
   "cell_type": "markdown",
   "metadata": {},
   "source": [
    "The code below generates 100000 random numbers distributed with our chosen probability distribution."
   ]
  },
  {
   "cell_type": "code",
   "execution_count": 4,
   "metadata": {},
   "outputs": [],
   "source": [
    "n_nums = 100000  # the number of random numbers that we want\n",
    "\n",
    "# define an array to hold the random numbers with the distribution that we want\n",
    "kept_nums = np.zeros(n_nums)  \n",
    "\n",
    "# we want numbers between 0 and 10, so define the min and max\n",
    "nmin = 0  \n",
    "nmax = 10  \n",
    "\n",
    "for i in range(n_nums):  # we'll do the below for each random number that we want to pick\n",
    "    num = -1\n",
    "    while(num == -1):  # keep picking random numbers until we get one we want to keep\n",
    "        # np.random.random() gives a uniformly-distributed random number in the half-open interval [0,1)\n",
    "        # first adjust this to the range of numbers that we want\n",
    "        rand_num = np.random.random()*(nmax-nmin) + nmin  # this gives a random number uniformly distributed between nmin and nmax\n",
    "\n",
    "        # we don't want a uniform distribution, so we'll keep our number with a probability proportional\n",
    "        # to the probability distribution that we want\n",
    "        # in this case, we want a probability f(x) proportional to x^2\n",
    "        # normalize it so that the number with the maximum probability (in this case 10) has a probability of 1\n",
    "        # f(x) = (x/10)^2 = (rand_num/nmax)^2\n",
    "        \n",
    "        # (note that if you make the maximum proability greater than 1, this code won't distinguish\n",
    "        # between numbers that have different probabilities > 1 and you won't get the right distribution;\n",
    "        # if you make the maximum probability less than 1, it will work but it will be inefficient since\n",
    "        # it will throw away more numbers than it needs to)\n",
    "         \n",
    "        pkeep = (rand_num/nmax)**2  # the probability that we want to keep the number we drew \n",
    "        \n",
    "        # pick a uniformly distributed random number between 0 and 1 and if it's less than pkeep, keep the number\n",
    "        # this means that the number had a probability pkeep of being kept\n",
    "        if np.random.random() <= pkeep:\n",
    "            num = rand_num\n",
    "    \n",
    "    # add our number to the list of kept numbers\n",
    "    kept_nums[i] = num"
   ]
  },
  {
   "cell_type": "markdown",
   "metadata": {},
   "source": [
    "Plot a histogram of the random numbers that we drew to see if it matches."
   ]
  },
  {
   "cell_type": "code",
   "execution_count": 5,
   "metadata": {},
   "outputs": [
    {
     "data": {
      "image/png": "[encoded data removed]",
      "text/plain": [
       "<Figure size 432x288 with 1 Axes>"
      ]
     },
     "metadata": {
      "needs_background": "light"
     },
     "output_type": "display_data"
    }
   ],
   "source": [
    "plt.hist(kept_nums, bins=30)\n",
    "plt.show()"
   ]
  },
  {
   "cell_type": "markdown",
   "metadata": {},
   "source": [
    "We can add a line to the histogram to double check that it matches."
   ]
  },
  {
   "cell_type": "code",
   "execution_count": 14,
   "metadata": {},
   "outputs": [
    {
     "data": {
      "image/png": "[encoded data removed]",
      "text/plain": [
       "<Figure size 432x288 with 1 Axes>"
      ]
     },
     "metadata": {
      "needs_background": "light"
     },
     "output_type": "display_data"
    }
   ],
   "source": [
    "x = np.linspace(nmin,nmax,100) # 100 evenly spaced numbers between 0 and 10\n",
    "norm_max = np.max(np.histogram(kept_nums, bins=30)[0]) # get the maximum number in a histogram bin\n",
    "fx = norm_max*(x/nmax)**2  # the probability distribution proportional to x^2\n",
    "\n",
    "plt.hist(kept_nums, bins=30)\n",
    "plt.plot(x,fx,'r',linewidth=3)\n",
    "plt.show()"
   ]
  },
  {
   "cell_type": "code",
   "execution_count": 17,
   "metadata": {},
   "outputs": [
    {
     "data": {
      "image/png": "[encoded data removed]",
      "text/plain": [
       "<Figure size 432x288 with 1 Axes>"
      ]
     },
     "metadata": {
      "needs_background": "light"
     },
     "output_type": "display_data"
    }
   ],
   "source": [
    "#2a) \n",
    "n_nums = 100000  # the number of random numbers that we want\n",
    "\n",
    "# define an array to hold the random numbers with the distribution that we want\n",
    "kept_nums = np.zeros(n_nums) \n",
    "x = np.random.random(n_nums)\n",
    "y = np.random.random(n_nums)\n",
    "# we want numbers between 0 and 10, so define the min and max\n",
    "H = 1.0\n",
    "zmin = 0\n",
    "zmax = 7*H\n",
    "\n",
    "\n",
    "for i in range(n_nums):  # we'll do the below for each random number that we want to pick\n",
    "    num = -1\n",
    "    while(num == -1):  # keep picking random numbers until we get one we want to keep\n",
    "        # np.random.random() gives a uniformly-distributed random number in the half-open interval [0,1)\n",
    "        # first adjust this to the range of numbers that we want\n",
    "        rand_num = np.random.random()*(zmax-zmin) + zmin  # this gives a random number uniformly distributed between nmin and nmax\n",
    "\n",
    "         \n",
    "        pkeep = np.exp(-rand_num/H)  # the probability that we want to keep the number we drew \n",
    "        \n",
    "        if np.random.random() <= pkeep:\n",
    "            num = rand_num\n",
    "    \n",
    "    # add our number to the list of kept numbers\n",
    "    kept_nums[i] = num\n",
    "\n",
    "plt.hist(kept_nums, bins = 30)\n",
    "plt.show()"
   ]
  },
  {
   "cell_type": "code",
   "execution_count": 22,
   "metadata": {},
   "outputs": [
    {
     "data": {
      "image/png": "[encoded data removed]",
      "text/plain": [
       "<Figure size 432x288 with 1 Axes>"
      ]
     },
     "metadata": {
      "needs_background": "light"
     },
     "output_type": "display_data"
    }
   ],
   "source": [
    "#2b)\n",
    "photons = 20000\n",
    "b = 0.008\n",
    "sig = np.pi*b**2\n",
    "x_photon = np.random.random(photons)\n",
    "y_photon = np.random.random(photons)\n",
    "\n",
    "collision_height = np.zeros(photons)\n",
    "\n",
    "for i in range(photons):\n",
    "    will_collide = np.where(np.sqrt((x - x_photon[i])**2 + (y - y_photon[i])**2) < b)\n",
    "    #print(will_collide)\n",
    "    collision_height[i] = np.max(kept_nums[will_collide])\n",
    "    #print(collision_height[i])\n",
    "plt.hist(collision_height, bins = 30)\n",
    "plt.show()\n",
    "\n",
    "#most photons collide at a height of about 3H"
   ]
  },
  {
   "cell_type": "code",
   "execution_count": 27,
   "metadata": {},
   "outputs": [
    {
     "name": "stdout",
     "output_type": "stream",
     "text": [
      "4.665292232535219\n",
      "1.716265099406527\n",
      "0.6313786456717231\n",
      "0.23227122333729555\n",
      "0.08544780784153157\n",
      "0.03143449179806742\n",
      "0.01156410327618133\n"
     ]
    }
   ],
   "source": [
    "#2c)\n",
    "#volume is 1x1 and has heights from 0 to 1H\n",
    "#I'd assume most get absorbed at 3, and this means 3ish will have closest optical depth to 1\n",
    "n0 = len(np.where(kept_nums < H)[0])/H\n",
    "for i in range(1,8,1):\n",
    "    z = i\n",
    "    n = n0*np.exp(-z/H)\n",
    "    opt_depth = n*sig*H\n",
    "    print(opt_depth)\n",
    "#so 3 is the closest but it's still kinda far\n"
   ]
  },
  {
   "cell_type": "code",
   "execution_count": 48,
   "metadata": {},
   "outputs": [
    {
     "name": "stdout",
     "output_type": "stream",
     "text": [
      "1.0409674029848093\n"
     ]
    }
   ],
   "source": [
    "z = 2.5\n",
    "n = n0*np.exp(-z/H)\n",
    "opt_depth = n*sig*H\n",
    "print(opt_depth)\n",
    "#much better\n",
    "#so 3 is closest integer value of H but 2.5H is closer"
   ]
  },
  {
   "cell_type": "code",
   "execution_count": null,
   "metadata": {},
   "outputs": [],
   "source": []
  }
 ],
 "metadata": {
  "kernelspec": {
   "display_name": "Python 3",
   "language": "python",
   "name": "python3"
  },
  "language_info": {
   "codemirror_mode": {
    "name": "ipython",
    "version": 3
   },
   "file_extension": ".py",
   "mimetype": "text/x-python",
   "name": "python",
   "nbconvert_exporter": "python",
   "pygments_lexer": "ipython3",
   "version": "3.8.5"
  }
 },
 "nbformat": 4,
 "nbformat_minor": 4
}
